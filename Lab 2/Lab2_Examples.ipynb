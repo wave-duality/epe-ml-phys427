{
 "cells": [
  {
   "cell_type": "markdown",
   "id": "765ede05",
   "metadata": {},
   "source": [
    "# <span style='color:blue'> LAB2: </span>\n",
    "# <span style='color:blue'> PYTORCH INTRODUCTION </span>"
   ]
  },
  {
   "cell_type": "markdown",
   "id": "2001cc17",
   "metadata": {},
   "source": [
    "# <span style='color:red'> Part 1: Python as Deep Learning Platform -----------------------------------------------------</span>"
   ]
  },
  {
   "cell_type": "markdown",
   "id": "cf890327",
   "metadata": {},
   "source": [
    "### 1.1 - Verify PyTorch Installation"
   ]
  },
  {
   "cell_type": "code",
   "execution_count": 1,
   "id": "b094209d",
   "metadata": {},
   "outputs": [],
   "source": [
    "# Import necessary packages\n",
    "\n",
    "import numpy as np\n",
    "import torch"
   ]
  },
  {
   "cell_type": "code",
   "execution_count": 44,
   "id": "1899d484",
   "metadata": {},
   "outputs": [
    {
     "name": "stdout",
     "output_type": "stream",
     "text": [
      "tensor([[0.2389, 0.3478, 0.9061],\n",
      "        [0.5431, 0.8342, 0.1228],\n",
      "        [0.2831, 0.8943, 0.9670],\n",
      "        [0.6180, 0.6064, 0.7045],\n",
      "        [0.7800, 0.1388, 0.7114]])\n"
     ]
    }
   ],
   "source": [
    "# Define a random torch tensor of shape (5, 3)\n",
    "\n",
    "x = torch.rand(5, 3)\n",
    "print(x)"
   ]
  },
  {
   "cell_type": "code",
   "execution_count": 3,
   "id": "65df02d3",
   "metadata": {},
   "outputs": [
    {
     "data": {
      "text/plain": [
       "False"
      ]
     },
     "execution_count": 3,
     "metadata": {},
     "output_type": "execute_result"
    }
   ],
   "source": [
    "# This lines ensures PyTorch can communicate with your GPU for hardware acceleration\n",
    "\n",
    "torch.cuda.is_available()"
   ]
  },
  {
   "cell_type": "markdown",
   "id": "08eb68cf",
   "metadata": {},
   "source": [
    "# <span style='color:red'> Part 2: Neural Network Workflow in PyTorch (Simple Linear Regression) ----------</span>"
   ]
  },
  {
   "cell_type": "markdown",
   "id": "045ebaa5",
   "metadata": {},
   "source": [
    "### 2.1 - Prepare Data"
   ]
  },
  {
   "cell_type": "code",
   "execution_count": 4,
   "id": "8598fbc8",
   "metadata": {},
   "outputs": [],
   "source": [
    "%matplotlib inline\n",
    "\n",
    "import matplotlib.pyplot as plt"
   ]
  },
  {
   "cell_type": "code",
   "execution_count": 45,
   "id": "502ab4d9",
   "metadata": {},
   "outputs": [],
   "source": [
    "# Generate training data for x and y\n",
    "\n",
    "x_train = np.arange(11, dtype = np.float32)\n",
    "x_train = x_train[:, np.newaxis] # [:, np.nexaxis] re-orient the x_train so that it's in vertical orientation\n",
    "\n",
    "y_train = (2 * x_train) + 1"
   ]
  },
  {
   "cell_type": "code",
   "execution_count": 46,
   "id": "49889902",
   "metadata": {},
   "outputs": [
    {
     "name": "stdout",
     "output_type": "stream",
     "text": [
      "[[ 0.]\n",
      " [ 1.]\n",
      " [ 2.]\n",
      " [ 3.]\n",
      " [ 4.]\n",
      " [ 5.]\n",
      " [ 6.]\n",
      " [ 7.]\n",
      " [ 8.]\n",
      " [ 9.]\n",
      " [10.]]\n"
     ]
    }
   ],
   "source": [
    "print(x_train)"
   ]
  },
  {
   "cell_type": "code",
   "execution_count": 47,
   "id": "9bd1c45d",
   "metadata": {},
   "outputs": [
    {
     "name": "stdout",
     "output_type": "stream",
     "text": [
      "[[ 1.]\n",
      " [ 3.]\n",
      " [ 5.]\n",
      " [ 7.]\n",
      " [ 9.]\n",
      " [11.]\n",
      " [13.]\n",
      " [15.]\n",
      " [17.]\n",
      " [19.]\n",
      " [21.]]\n"
     ]
    }
   ],
   "source": [
    "print(y_train)"
   ]
  },
  {
   "cell_type": "markdown",
   "id": "23562000",
   "metadata": {},
   "source": [
    "### 2.2 - Define Model"
   ]
  },
  {
   "cell_type": "code",
   "execution_count": 48,
   "id": "48999749",
   "metadata": {},
   "outputs": [],
   "source": [
    "# A neural network model in PyTorch is a class \n",
    "\n",
    "class linearRegression(torch.nn.Module):\n",
    "    \n",
    "    def __init__(self, input_dim, output_dim): # Initializes the model with a linear layer with input/output dimension\n",
    "        \n",
    "        super(linearRegression, self).__init__() # This line allows us to use attributes/methods from torch.nn.Module\n",
    "        \n",
    "        self.linear = torch.nn.Linear(input_dim, output_dim) # Define a single linear layer with input/output dimensions\n",
    "\n",
    "    def forward(self, x): # This function describes the information flow within the network from input -> output\n",
    "        \n",
    "        out = self.linear(x) # We only have a single layer so the network output = output of the linear layer \n",
    "        \n",
    "        return out"
   ]
  },
  {
   "cell_type": "markdown",
   "id": "60513711",
   "metadata": {},
   "source": [
    "### 2.3 - Select Hyperparameters"
   ]
  },
  {
   "cell_type": "code",
   "execution_count": 49,
   "id": "7df28b25",
   "metadata": {},
   "outputs": [],
   "source": [
    "# Initialize our neural network model with input and output dimensions\n",
    "model = linearRegression(input_dim = 1, output_dim = 1)\n",
    "\n",
    "# Define the learning rate and epoch (# of iterations)\n",
    "learning_rate = 0.01\n",
    "epochs = 100\n",
    "\n",
    "# Define loss function and optimizer\n",
    "loss_func = torch.nn.MSELoss() \n",
    "optimizer = torch.optim.SGD(model.parameters(), lr = learning_rate)\n",
    "\n",
    "# Run this line if you have PyTorch GPU version\n",
    "if torch.cuda.is_available():\n",
    "    model.cuda()"
   ]
  },
  {
   "cell_type": "markdown",
   "id": "0c76eeb7",
   "metadata": {},
   "source": [
    "### 2.4 - Identify Tracked Values"
   ]
  },
  {
   "cell_type": "code",
   "execution_count": 50,
   "id": "c4be6f16",
   "metadata": {},
   "outputs": [],
   "source": [
    "# Define a list or numpy array placeholder to keep track of our training loss\n",
    "\n",
    "train_loss_list = []"
   ]
  },
  {
   "cell_type": "markdown",
   "id": "7c1403d8",
   "metadata": {},
   "source": [
    "### 2.5 - Train Model"
   ]
  },
  {
   "cell_type": "code",
   "execution_count": 54,
   "id": "4c12bb57",
   "metadata": {
    "scrolled": true
   },
   "outputs": [
    {
     "name": "stdout",
     "output_type": "stream",
     "text": [
      "epoch 0, loss 4.8661375330993906e-05\n",
      "epoch 1, loss 4.812289625988342e-05\n",
      "epoch 2, loss 4.758340946864337e-05\n",
      "epoch 3, loss 4.7050139983184636e-05\n",
      "epoch 4, loss 4.652554707718082e-05\n",
      "epoch 5, loss 4.6008804929442704e-05\n",
      "epoch 6, loss 4.549218647298403e-05\n",
      "epoch 7, loss 4.4984117266722023e-05\n",
      "epoch 8, loss 4.448205800144933e-05\n",
      "epoch 9, loss 4.398417877382599e-05\n",
      "epoch 10, loss 4.34951507486403e-05\n",
      "epoch 11, loss 4.3007577914977446e-05\n",
      "epoch 12, loss 4.252995495335199e-05\n",
      "epoch 13, loss 4.205289587844163e-05\n",
      "epoch 14, loss 4.158197407377884e-05\n",
      "epoch 15, loss 4.1120045352727175e-05\n",
      "epoch 16, loss 4.066004476044327e-05\n",
      "epoch 17, loss 4.0206348785432056e-05\n",
      "epoch 18, loss 3.975789513788186e-05\n",
      "epoch 19, loss 3.931233732146211e-05\n",
      "epoch 20, loss 3.8874102756381035e-05\n",
      "epoch 21, loss 3.844023376586847e-05\n",
      "epoch 22, loss 3.8009780837455764e-05\n",
      "epoch 23, loss 3.758515958907083e-05\n",
      "epoch 24, loss 3.716699211508967e-05\n",
      "epoch 25, loss 3.675042535178363e-05\n",
      "epoch 26, loss 3.634091262938455e-05\n",
      "epoch 27, loss 3.59351142833475e-05\n",
      "epoch 28, loss 3.553288115654141e-05\n",
      "epoch 29, loss 3.513261617626995e-05\n",
      "epoch 30, loss 3.474458571872674e-05\n",
      "epoch 31, loss 3.435431790421717e-05\n",
      "epoch 32, loss 3.3972795790759847e-05\n",
      "epoch 33, loss 3.359366746735759e-05\n",
      "epoch 34, loss 3.321492476970889e-05\n",
      "epoch 35, loss 3.2847150578163564e-05\n",
      "epoch 36, loss 3.247887434554286e-05\n",
      "epoch 37, loss 3.211653893231414e-05\n",
      "epoch 38, loss 3.175732490490191e-05\n",
      "epoch 39, loss 3.140333865303546e-05\n",
      "epoch 40, loss 3.105408904957585e-05\n",
      "epoch 41, loss 3.070481398026459e-05\n",
      "epoch 42, loss 3.0363175028469414e-05\n",
      "epoch 43, loss 3.0023487852304243e-05\n",
      "epoch 44, loss 2.9688824724871665e-05\n",
      "epoch 45, loss 2.9357381208683364e-05\n",
      "epoch 46, loss 2.9030576115474105e-05\n",
      "epoch 47, loss 2.870612843253184e-05\n",
      "epoch 48, loss 2.8385426048771478e-05\n",
      "epoch 49, loss 2.8066744562238455e-05\n",
      "epoch 50, loss 2.7754693292081356e-05\n",
      "epoch 51, loss 2.7444888473837636e-05\n",
      "epoch 52, loss 2.7138930818182416e-05\n",
      "epoch 53, loss 2.683303137018811e-05\n",
      "epoch 54, loss 2.6535401048022322e-05\n",
      "epoch 55, loss 2.6239606086164713e-05\n",
      "epoch 56, loss 2.5945239030988887e-05\n",
      "epoch 57, loss 2.5655261197243817e-05\n",
      "epoch 58, loss 2.5368914066348225e-05\n",
      "epoch 59, loss 2.508692523406353e-05\n",
      "epoch 60, loss 2.4806173314573243e-05\n",
      "epoch 61, loss 2.45298542722594e-05\n",
      "epoch 62, loss 2.425536331429612e-05\n",
      "epoch 63, loss 2.398420292593073e-05\n",
      "epoch 64, loss 2.3716578652965836e-05\n",
      "epoch 65, loss 2.3449685613741167e-05\n",
      "epoch 66, loss 2.3189490093500353e-05\n",
      "epoch 67, loss 2.292979661433492e-05\n",
      "epoch 68, loss 2.267514355480671e-05\n",
      "epoch 69, loss 2.2422389520215802e-05\n",
      "epoch 70, loss 2.217091059719678e-05\n",
      "epoch 71, loss 2.1924017346464097e-05\n",
      "epoch 72, loss 2.1677495169569738e-05\n",
      "epoch 73, loss 2.1435527742141858e-05\n",
      "epoch 74, loss 2.1196774468990043e-05\n",
      "epoch 75, loss 2.096142816299107e-05\n",
      "epoch 76, loss 2.072621282422915e-05\n",
      "epoch 77, loss 2.0495463104452938e-05\n",
      "epoch 78, loss 2.026569018198643e-05\n",
      "epoch 79, loss 2.0040291929035448e-05\n",
      "epoch 80, loss 1.9815999621641822e-05\n",
      "epoch 81, loss 1.959504879778251e-05\n",
      "epoch 82, loss 1.9376178897800855e-05\n",
      "epoch 83, loss 1.9159060684614815e-05\n",
      "epoch 84, loss 1.8946309864986688e-05\n",
      "epoch 85, loss 1.8734013792709447e-05\n",
      "epoch 86, loss 1.852667992352508e-05\n",
      "epoch 87, loss 1.831695408327505e-05\n",
      "epoch 88, loss 1.811318907130044e-05\n",
      "epoch 89, loss 1.791158501873724e-05\n",
      "epoch 90, loss 1.7710524844005704e-05\n",
      "epoch 91, loss 1.7514123101136647e-05\n",
      "epoch 92, loss 1.7319785911240615e-05\n",
      "epoch 93, loss 1.7123255020123906e-05\n",
      "epoch 94, loss 1.6933037841226906e-05\n",
      "epoch 95, loss 1.6742902516853064e-05\n",
      "epoch 96, loss 1.6555502952542156e-05\n",
      "epoch 97, loss 1.637217792449519e-05\n",
      "epoch 98, loss 1.6187776054721326e-05\n",
      "epoch 99, loss 1.6008305465220474e-05\n"
     ]
    }
   ],
   "source": [
    "# Convert our dataset (inputs and targets) into torch tensors\n",
    "\n",
    "if torch.cuda.is_available():\n",
    "    inputs = torch.from_numpy(x_train).cuda() # If using GPU version, transfer the dataset to GPU memory\n",
    "    targets = torch.from_numpy(y_train).cuda()\n",
    "else:\n",
    "    inputs = torch.from_numpy(x_train)\n",
    "    targets = torch.from_numpy(y_train)\n",
    "\n",
    "# TRAINING LOOP-------------------------------------------------------------------------\n",
    "\n",
    "for epoch in range(epochs): # For each epoch (i.e. single pass on the training dataset)\n",
    "\n",
    "    optimizer.zero_grad() # Empty the gradient buffer so each learning event per epoch is separate\n",
    "\n",
    "    outputs = model(inputs) # Forward pass the inputs through the network to produce outputs \n",
    "\n",
    "    loss = loss_func(outputs, targets) # Compute the loss via comparing the output with expected targets\n",
    "    \n",
    "    train_loss_list.append(loss.item()) # Save the loss value to train_loss_list we defined\n",
    "    \n",
    "    loss.backward() # Compute how much changes to be made to weights/biases\n",
    "\n",
    "    optimizer.step() # Update the weights/biases according to learning rate\n",
    "\n",
    "    print('epoch {}, loss {}'.format(epoch, loss.item()))"
   ]
  },
  {
   "cell_type": "markdown",
   "id": "4cd0258f",
   "metadata": {},
   "source": [
    "### 2.6 - Visualization and Evaluation"
   ]
  },
  {
   "cell_type": "code",
   "execution_count": 55,
   "id": "142f7a0c",
   "metadata": {},
   "outputs": [
    {
     "name": "stdout",
     "output_type": "stream",
     "text": [
      "[[ 1.0074425]\n",
      " [ 3.0063705]\n",
      " [ 5.0052986]\n",
      " [ 7.004227 ]\n",
      " [ 9.003155 ]\n",
      " [11.002084 ]\n",
      " [13.001012 ]\n",
      " [14.99994  ]\n",
      " [16.998867 ]\n",
      " [18.997797 ]\n",
      " [20.996725 ]]\n",
      "a: [[1.9989282]] b: [1.0074425]\n"
     ]
    }
   ],
   "source": [
    "with torch.no_grad(): # Telling PyTorch we aren't passing inputs to the model for training purpose, which requires gradient\n",
    "    \n",
    "    if torch.cuda.is_available(): # If you are using GPU version\n",
    "        \n",
    "        # 1. Convert x_train (np.array) -> torch tensors with torch.from_numpy()\n",
    "        # 2. Transfer x_train to GPU using .cuda()\n",
    "        # 3. Feed forward x_train to model to obtain the output using model()\n",
    "        # 4. Since the model lives in GPU, we should bring back the model output to CPU with .cpu()\n",
    "        # 5. Finally convert the torch tensor to numpy with .numpy()\n",
    "        predicted = model(torch.from_numpy(x_train).cuda()).cpu().numpy() \n",
    "        \n",
    "    else:\n",
    "        \n",
    "        # With CPU version, steps 2,3,4 above is not needed\n",
    "        predicted = model(torch.from_numpy(x_train)).numpy()\n",
    "    \n",
    "    # Print the predicted outputs - i.e., y-values and weight and biases in the trained neural network\n",
    "    print(predicted) \n",
    "    print(\"a: \" + str(model.linear.weight.cpu().numpy()), \"b: \" + str(model.linear.bias.cpu().numpy()))"
   ]
  },
  {
   "cell_type": "code",
   "execution_count": null,
   "id": "657c3809",
   "metadata": {},
   "outputs": [],
   "source": [
    "# Plot the predicted-y (blue line) vs expected targets (black dots)\n",
    "\n",
    "plt.figure(figsize = (10, 7))\n",
    "\n",
    "plt.plot(predicted, '--', linewidth = 3)\n",
    "plt.plot(x_train, y_train, 'o', color = 'black', markersize = 10)\n",
    "plt.xlabel('x', fontsize = 50)\n",
    "plt.ylabel('y', fontsize = 50)"
   ]
  },
  {
   "cell_type": "markdown",
   "id": "1bd1b6a6",
   "metadata": {},
   "source": [
    "# <span style='color:red'> Part 3: Python Concepts for PyTorch ---------------------------------------------------------</span>"
   ]
  },
  {
   "cell_type": "markdown",
   "id": "1820e25a",
   "metadata": {},
   "source": [
    "### 3.1 - Python Classes"
   ]
  },
  {
   "cell_type": "code",
   "execution_count": null,
   "id": "51887a31",
   "metadata": {},
   "outputs": [],
   "source": [
    "class Pokemon():\n",
    "    def __init__(self, Name, Type, Health): # Define attributes for the Pokemon object\n",
    "        self.Name = Name\n",
    "        self.Type = Type \n",
    "        self.Health = Health\n",
    "        \n",
    "    # Define methods for the Pokemon object\n",
    "    \n",
    "    def whats_your_name(self): # Your method can directly use the attributes defined in __init__\n",
    "        print(\"My name is \" + self.Name + \"!\")\n",
    "\n",
    "    def attack(self):\n",
    "        print(\"Electric attack! Zap!!\")\n",
    "\n",
    "    def dodge(self):\n",
    "        print(\"Pikachu Dodge!\")\n",
    "\n",
    "    def evolve(self):\n",
    "        print(\"Evolving to Raichu!!\")"
   ]
  },
  {
   "cell_type": "code",
   "execution_count": null,
   "id": "a9100501",
   "metadata": {},
   "outputs": [],
   "source": [
    "pk1 = Pokemon(Name = \"Pikachu\", Type = \"Electric\", Health = 70)"
   ]
  },
  {
   "cell_type": "code",
   "execution_count": null,
   "id": "d6c7d6a5",
   "metadata": {},
   "outputs": [],
   "source": [
    "pk1.Name"
   ]
  },
  {
   "cell_type": "code",
   "execution_count": null,
   "id": "30892060",
   "metadata": {},
   "outputs": [],
   "source": [
    "pk1.whats_your_name()"
   ]
  },
  {
   "cell_type": "code",
   "execution_count": null,
   "id": "84c2e2d8",
   "metadata": {},
   "outputs": [],
   "source": [
    "pk1.attack()"
   ]
  },
  {
   "cell_type": "markdown",
   "id": "d919403f",
   "metadata": {},
   "source": [
    "### 3.2 - PyTorch Tensors vs Numpy Arrays"
   ]
  },
  {
   "cell_type": "code",
   "execution_count": null,
   "id": "5e5de4ce",
   "metadata": {},
   "outputs": [],
   "source": [
    "# Defining a numpy array\n",
    "array1 = np.array([1,2,3,4]) \n",
    "print(array1, type(array1))"
   ]
  },
  {
   "cell_type": "code",
   "execution_count": null,
   "id": "30219acc",
   "metadata": {},
   "outputs": [],
   "source": [
    "# Defining a torch tensor\n",
    "tensor1 = torch.tensor([1,2,3,4])\n",
    "print(tensor1, type(tensor1))"
   ]
  },
  {
   "cell_type": "code",
   "execution_count": null,
   "id": "1a25ec8a",
   "metadata": {},
   "outputs": [],
   "source": [
    "# Converting numpy array to torch tensor\n",
    "array1_torch = torch.from_numpy(array1)\n",
    "print(array1_torch, type(array1_torch))"
   ]
  },
  {
   "cell_type": "code",
   "execution_count": null,
   "id": "6169a8dd",
   "metadata": {},
   "outputs": [],
   "source": [
    "# Converting torch tensor to numpy array\n",
    "tensor1_numpy = tensor1.numpy()\n",
    "print(tensor1_numpy, type(tensor1_numpy))"
   ]
  },
  {
   "cell_type": "markdown",
   "id": "f6429c30",
   "metadata": {},
   "source": [
    "### 3.3 - Handling Torch Tensors"
   ]
  },
  {
   "cell_type": "code",
   "execution_count": null,
   "id": "a931cbd4",
   "metadata": {},
   "outputs": [],
   "source": [
    "# Transferring your torch tensor to CPU\n",
    "tensor1_cpu = tensor1.cpu()\n",
    "print(tensor1_cpu.device)"
   ]
  },
  {
   "cell_type": "code",
   "execution_count": null,
   "id": "a71d086a",
   "metadata": {},
   "outputs": [],
   "source": [
    "# Transferring your torch tensor to GPU\n",
    "tensor1_gpu = tensor1.cuda()\n",
    "print(tensor1_gpu.device)"
   ]
  }
 ],
 "metadata": {
  "kernelspec": {
   "display_name": "Python 3 (ipykernel)",
   "language": "python",
   "name": "python3"
  },
  "language_info": {
   "codemirror_mode": {
    "name": "ipython",
    "version": 3
   },
   "file_extension": ".py",
   "mimetype": "text/x-python",
   "name": "python",
   "nbconvert_exporter": "python",
   "pygments_lexer": "ipython3",
   "version": "3.11.5"
  }
 },
 "nbformat": 4,
 "nbformat_minor": 5
}
